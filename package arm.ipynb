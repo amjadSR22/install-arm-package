{
 "cells": [
  {
   "cell_type": "markdown",
   "metadata": {},
   "source": [
    "# install RVIZ "
   ]
  },
  {
   "cell_type": "markdown",
   "metadata": {},
   "source": [
    "# open the terminal to put these coding\n",
    "mkdir -p ~/catkin_ws/src\n",
    "\n",
    "cd ~/catkin_ws/\n",
    "\n",
    "catkin_make\n",
    "\n",
    "cd ~/catkin_ws/src\n",
    "\n",
    "git clone https://github.com/smart-methods/arduino_robot_arm.git \n",
    "\n",
    "cd ~/catkin_ws\n",
    "sudo apt-get install ros-noetic-moveit\n",
    "sudo apt-get install ros-noetic-joint-state-publisher ros-noetic-joint-state-publisher-gui\n",
    "sudo apt-get install ros-noetic-gazebo-ros-control joint-state-publisher\n",
    "sudo apt-get install ros-noetic-ros-controllers ros-noetic-ros-control"
   ]
  },
  {
   "cell_type": "markdown",
   "metadata": {},
   "source": [
    "-sudo apt-get install ros-noetic-moveit\n",
    "-sudo apt-get install ros-noetic-joint-state-publisher ros-noetic-joint-state-publisher-gui\n",
    "-sudo apt-get install ros-noetic-gazebo-ros-control joint-state-publisher\n",
    "-sudo apt-get install ros-noetic-ros-controllers ros-noetic-ros-control"
   ]
  },
  {
   "cell_type": "markdown",
   "metadata": {},
   "source": [
    "sudo nano ~/.bashrc\n",
    "then add this line at end the file \n",
    "source /home/amjad/catkin_ws/devel/setup.bash\n"
   ]
  },
  {
   "cell_type": "markdown",
   "metadata": {},
   "source": [
    "source ~/.bashrc\n",
    "\n",
    "roslaunch robot_arm_pkg check_motors.launch"
   ]
  },
  {
   "cell_type": "markdown",
   "metadata": {},
   "source": [
    "# finish "
   ]
  },
  {
   "cell_type": "code",
   "execution_count": null,
   "metadata": {},
   "outputs": [],
   "source": []
  }
 ],
 "metadata": {
  "kernelspec": {
   "display_name": "Python 3",
   "language": "python",
   "name": "python3"
  },
  "language_info": {
   "codemirror_mode": {
    "name": "ipython",
    "version": 3
   },
   "file_extension": ".py",
   "mimetype": "text/x-python",
   "name": "python",
   "nbconvert_exporter": "python",
   "pygments_lexer": "ipython3",
   "version": "3.8.5"
  }
 },
 "nbformat": 4,
 "nbformat_minor": 4
}
